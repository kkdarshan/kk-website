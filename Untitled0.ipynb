{
  "nbformat": 4,
  "nbformat_minor": 0,
  "metadata": {
    "colab": {
      "provenance": [],
      "authorship_tag": "ABX9TyMg4PMLoVawG0AUOBK1Ya/Y",
      "include_colab_link": true
    },
    "kernelspec": {
      "name": "python3",
      "display_name": "Python 3"
    },
    "language_info": {
      "name": "python"
    }
  },
  "cells": [
    {
      "cell_type": "markdown",
      "metadata": {
        "id": "view-in-github",
        "colab_type": "text"
      },
      "source": [
        "<a href=\"https://colab.research.google.com/github/kkdarshan/kk-website/blob/main/Untitled0.ipynb\" target=\"_parent\"><img src=\"https://colab.research.google.com/assets/colab-badge.svg\" alt=\"Open In Colab\"/></a>"
      ]
    },
    {
      "cell_type": "code",
      "execution_count": 1,
      "metadata": {
        "id": "bg-ufyqu4bfs",
        "colab": {
          "base_uri": "https://localhost:8080/"
        },
        "outputId": "55f2d51e-d4c6-44cf-f831-cfd657c87c0e"
      },
      "outputs": [
        {
          "output_type": "stream",
          "name": "stdout",
          "text": [
            "Full Data:\n",
            "      Name  Subject  Marks\n",
            "0    Alice     Math     85\n",
            "1      Bob     Math     62\n",
            "2  Charlie  Science     90\n",
            "3    David  Science     55\n",
            "4      Eva     Math     95\n",
            "\n",
            "Students who scored more than 80:\n",
            "      Name  Subject  Marks\n",
            "0    Alice     Math     85\n",
            "2  Charlie  Science     90\n",
            "4      Eva     Math     95\n",
            "\n",
            "Average Marks by Subject:\n",
            "Subject\n",
            "Math       80.666667\n",
            "Science    72.500000\n",
            "Name: Marks, dtype: float64\n"
          ]
        }
      ],
      "source": [
        "import pandas as pd\n",
        "\n",
        "# Create a sample DataFrame\n",
        "data = {\n",
        "    'Name': ['Alice', 'Bob', 'Charlie', 'David', 'Eva'],\n",
        "    'Subject': ['Math', 'Math', 'Science', 'Science', 'Math'],\n",
        "    'Marks': [85, 62, 90, 55, 95]\n",
        "}\n",
        "\n",
        "df = pd.DataFrame(data)\n",
        "\n",
        "# Print the full DataFrame\n",
        "print(\"Full Data:\")\n",
        "print(df)\n",
        "\n",
        "# Filter students who scored more than 80\n",
        "high_scorers = df[df['Marks'] > 80]\n",
        "print(\"\\nStudents who scored more than 80:\")\n",
        "print(high_scorers)\n",
        "\n",
        "\n",
        "avg_marks = df.groupby('Subject')['Marks'].mean()\n",
        "print(\"\\nAverage Marks by Subject:\")\n",
        "print(avg_marks)\n"
      ]
    },
    {
      "cell_type": "markdown",
      "source": [],
      "metadata": {
        "id": "aqVQl8-24nlN"
      }
    },
    {
      "cell_type": "code",
      "source": [],
      "metadata": {
        "id": "z9RXwamE4qSG"
      },
      "execution_count": 1,
      "outputs": []
    },
    {
      "cell_type": "code",
      "source": [],
      "metadata": {
        "id": "4ueud5A14mhN"
      },
      "execution_count": 1,
      "outputs": []
    }
  ]
}